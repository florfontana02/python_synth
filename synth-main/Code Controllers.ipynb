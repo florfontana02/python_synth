{
 "cells": [
  {
   "cell_type": "code",
   "execution_count": 1,
   "metadata": {
    "ExecuteTime": {
     "end_time": "2021-03-02T08:34:07.037096Z",
     "start_time": "2021-03-02T08:34:05.232784Z"
    }
   },
   "outputs": [
    {
     "name": "stdout",
     "output_type": "stream",
     "text": [
      "pygame 2.6.1 (SDL 2.28.4, Python 3.8.10)\n",
      "Hello from the pygame community. https://www.pygame.org/contribute.html\n"
     ]
    }
   ],
   "source": [
    "import math\n",
    "import pyaudio\n",
    "import itertools\n",
    "import numpy as np\n",
    "import seaborn as sns\n",
    "from pygame import midi\n",
    "from scipy.io import wavfile\n",
    "import matplotlib.pyplot as plt\n",
    "from IPython.display import Audio"
   ]
  },
  {
   "cell_type": "code",
   "execution_count": 2,
   "metadata": {
    "ExecuteTime": {
     "end_time": "2021-03-02T08:34:07.103954Z",
     "start_time": "2021-03-02T08:34:07.059335Z"
    }
   },
   "outputs": [],
   "source": [
    "from synth.components.envelopes import ADSREnvelope\n",
    "from synth.components.composers import WaveAdder, Chain\n",
    "from synth.components.modifiers import Panner, ModulatedPanner, ModulatedVolume\n",
    "from synth.components.oscillators import ModulatedOscillator, SawtoothOscillator\n",
    "from synth.components.oscillators import TriangleOscillator, SineOscillator, SquareOscillator"
   ]
  },
  {
   "cell_type": "markdown",
   "metadata": {},
   "source": [
    "## MIDI"
   ]
  },
  {
   "cell_type": "code",
   "execution_count": 3,
   "metadata": {
    "ExecuteTime": {
     "end_time": "2021-03-01T14:40:28.352011Z",
     "start_time": "2021-03-01T14:40:28.347047Z"
    }
   },
   "outputs": [],
   "source": [
    "sns.set_theme()\n",
    "SR = 44_100 # Sample rate\n",
    "\n",
    "figsize=(25, 6.25)\n",
    "colors = \"#323031\", \"#308E91\", \"#34369D\",\"#5E2A7E\", \"#5E2A7E\", \"#6F3384\""
   ]
  },
  {
   "cell_type": "code",
   "execution_count": 4,
   "metadata": {
    "ExecuteTime": {
     "end_time": "2021-03-01T14:55:26.659377Z",
     "start_time": "2021-03-01T14:55:26.646041Z"
    }
   },
   "outputs": [],
   "source": [
    "getfig = lambda : plt.figure(figsize=figsize)\n",
    "savefig = lambda fig, name: fig.savefig(f\"./tempimg/{name}.jpg\")\n",
    "def plot(xy, r=1,c=1,i=1,title=\"\", xlabel=\"\",ylabel=\"\",yticks=None, xticks=None,**plot_kwargs):\n",
    "    # plt.plot helper\n",
    "    if r > 0:\n",
    "        plt.subplot(r,c,i)\n",
    "    plt.title(title)\n",
    "    if len(xy) == 2:\n",
    "        plt.plot(*xy, **plot_kwargs)\n",
    "    else:\n",
    "        plt.plot(xy, **plot_kwargs)\n",
    "        \n",
    "    if xticks is not None: plt.xticks(xticks)\n",
    "    if yticks is not None: plt.yticks(yticks)\n",
    "    plt.ylabel(ylabel)\n",
    "    plt.xlabel(xlabel)"
   ]
  },
  {
   "cell_type": "code",
   "execution_count": 11,
   "metadata": {},
   "outputs": [
    {
     "name": "stdout",
     "output_type": "stream",
     "text": [
      "Requirement already satisfied: mido in c:\\users\\florc\\appdata\\local\\packages\\pythonsoftwarefoundation.python.3.8_qbz5n2kfra8p0\\localcache\\local-packages\\python38\\site-packages (1.3.3)\n",
      "Requirement already satisfied: python-rtmidi in c:\\users\\florc\\appdata\\local\\packages\\pythonsoftwarefoundation.python.3.8_qbz5n2kfra8p0\\localcache\\local-packages\\python38\\site-packages (1.5.8)\n",
      "Requirement already satisfied: packaging in c:\\users\\florc\\appdata\\local\\packages\\pythonsoftwarefoundation.python.3.8_qbz5n2kfra8p0\\localcache\\local-packages\\python38\\site-packages (from mido) (25.0)\n"
     ]
    }
   ],
   "source": [
    "!pip install mido python-rtmidi\n"
   ]
  },
  {
   "cell_type": "code",
   "execution_count": 12,
   "metadata": {},
   "outputs": [
    {
     "name": "stdout",
     "output_type": "stream",
     "text": [
      "Puertos de entrada MIDI disponibles:\n",
      "    Launchkey Mini MK4 37 MIDI 0\n",
      "    MIDIIN2 (Launchkey Mini MK4 37  1\n"
     ]
    }
   ],
   "source": [
    "import mido\n",
    "\n",
    "print(\"Puertos de entrada MIDI disponibles:\")\n",
    "for name in mido.get_input_names():\n",
    "    print(\"   \", name)\n"
   ]
  },
  {
   "cell_type": "code",
   "execution_count": 16,
   "metadata": {},
   "outputs": [
    {
     "name": "stdout",
     "output_type": "stream",
     "text": [
      "Escuchando «Launchkey Mini MK4 37 MIDI 0» 5 s…\n",
      "clock time=0\n",
      "clock time=0\n",
      "clock time=0\n",
      "clock time=0\n",
      "clock time=0\n",
      "clock time=0\n",
      "clock time=0\n",
      "clock time=0\n",
      "clock time=0\n",
      "clock time=0\n",
      "clock time=0\n",
      "clock time=0\n",
      "clock time=0\n",
      "clock time=0\n",
      "clock time=0\n",
      "clock time=0\n",
      "clock time=0\n",
      "clock time=0\n",
      "note_on channel=13 note=61 velocity=76 time=0\n",
      "clock time=0\n",
      "clock time=0\n",
      "note_on channel=13 note=62 velocity=44 time=0\n",
      "clock time=0\n",
      "clock time=0\n",
      "note_on channel=13 note=61 velocity=0 time=0\n",
      "clock time=0\n",
      "note_on channel=13 note=62 velocity=0 time=0\n",
      "clock time=0\n",
      "clock time=0\n",
      "clock time=0\n",
      "clock time=0\n",
      "clock time=0\n",
      "note_on channel=13 note=62 velocity=62 time=0\n",
      "clock time=0\n",
      "clock time=0\n",
      "clock time=0\n",
      "clock time=0\n",
      "clock time=0\n",
      "clock time=0\n",
      "note_on channel=13 note=62 velocity=0 time=0\n",
      "clock time=0\n",
      "clock time=0\n",
      "clock time=0\n",
      "clock time=0\n",
      "clock time=0\n",
      "clock time=0\n",
      "clock time=0\n",
      "clock time=0\n",
      "clock time=0\n",
      "clock time=0\n",
      "clock time=0\n",
      "clock time=0\n",
      "clock time=0\n",
      "clock time=0\n",
      "clock time=0\n",
      "clock time=0\n",
      "clock time=0\n",
      "clock time=0\n",
      "note_on channel=13 note=62 velocity=40 time=0\n",
      "clock time=0\n",
      "clock time=0\n",
      "clock time=0\n",
      "clock time=0\n",
      "note_on channel=13 note=62 velocity=0 time=0\n",
      "clock time=0\n",
      "clock time=0\n",
      "clock time=0\n",
      "clock time=0\n",
      "clock time=0\n",
      "clock time=0\n",
      "note_on channel=13 note=64 velocity=64 time=0\n",
      "clock time=0\n",
      "clock time=0\n",
      "clock time=0\n",
      "clock time=0\n",
      "clock time=0\n",
      "note_on channel=13 note=64 velocity=0 time=0\n",
      "clock time=0\n",
      "clock time=0\n",
      "clock time=0\n",
      "note_on channel=13 note=66 velocity=57 time=0\n",
      "clock time=0\n",
      "clock time=0\n",
      "clock time=0\n",
      "clock time=0\n",
      "clock time=0\n",
      "clock time=0\n",
      "clock time=0\n",
      "note_on channel=13 note=67 velocity=29 time=0\n",
      "clock time=0\n",
      "clock time=0\n",
      "clock time=0\n",
      "clock time=0\n",
      "note_on channel=13 note=66 velocity=0 time=0\n",
      "clock time=0\n",
      "clock time=0\n",
      "clock time=0\n",
      "clock time=0\n",
      "note_on channel=13 note=62 velocity=23 time=0\n",
      "clock time=0\n",
      "note_on channel=13 note=67 velocity=0 time=0\n",
      "clock time=0\n",
      "clock time=0\n",
      "clock time=0\n",
      "note_on channel=13 note=66 velocity=14 time=0\n",
      "clock time=0\n",
      "clock time=0\n",
      "clock time=0\n",
      "clock time=0\n",
      "note_on channel=13 note=67 velocity=18 time=0\n",
      "clock time=0\n",
      "note_on channel=13 note=62 velocity=0 time=0\n",
      "clock time=0\n",
      "clock time=0\n",
      "clock time=0\n",
      "clock time=0\n",
      "note_on channel=13 note=69 velocity=27 time=0\n",
      "clock time=0\n",
      "clock time=0\n",
      "clock time=0\n",
      "clock time=0\n",
      "clock time=0\n",
      "note_on channel=13 note=66 velocity=0 time=0\n",
      "clock time=0\n",
      "clock time=0\n",
      "clock time=0\n",
      "note_on channel=13 note=67 velocity=0 time=0\n",
      "clock time=0\n",
      "clock time=0\n",
      "note_on channel=13 note=69 velocity=0 time=0\n",
      "note_on channel=13 note=64 velocity=12 time=0\n",
      "clock time=0\n",
      "clock time=0\n",
      "clock time=0\n",
      "clock time=0\n",
      "clock time=0\n",
      "clock time=0\n",
      "clock time=0\n",
      "note_on channel=13 note=65 velocity=21 time=0\n",
      "clock time=0\n",
      "clock time=0\n",
      "note_on channel=13 note=67 velocity=17 time=0\n",
      "clock time=0\n",
      "clock time=0\n",
      "note_on channel=13 note=64 velocity=0 time=0\n",
      "clock time=0\n",
      "clock time=0\n",
      "clock time=0\n",
      "clock time=0\n",
      "note_on channel=13 note=69 velocity=23 time=0\n",
      "clock time=0\n",
      "clock time=0\n",
      "note_on channel=13 note=65 velocity=0 time=0\n",
      "clock time=0\n",
      "clock time=0\n",
      "clock time=0\n",
      "note_on channel=13 note=67 velocity=0 time=0\n",
      "clock time=0\n",
      "clock time=0\n",
      "note_on channel=13 note=64 velocity=16 time=0\n",
      "clock time=0\n",
      "clock time=0\n",
      "clock time=0\n",
      "note_on channel=13 note=69 velocity=0 time=0\n",
      "clock time=0\n",
      "clock time=0\n",
      "clock time=0\n",
      "clock time=0\n",
      "clock time=0\n",
      "clock time=0\n",
      "note_on channel=13 note=64 velocity=0 time=0\n",
      "clock time=0\n",
      "clock time=0\n",
      "note_on channel=13 note=67 velocity=7 time=0\n",
      "clock time=0\n",
      "note_on channel=13 note=69 velocity=6 time=0\n",
      "clock time=0\n",
      "clock time=0\n",
      "clock time=0\n",
      "clock time=0\n",
      "note_on channel=13 note=67 velocity=0 time=0\n",
      "clock time=0\n",
      "clock time=0\n",
      "clock time=0\n",
      "clock time=0\n",
      "clock time=0\n",
      "clock time=0\n",
      "note_on channel=13 note=69 velocity=0 time=0\n",
      "clock time=0\n",
      "clock time=0\n",
      "clock time=0\n",
      "clock time=0\n",
      "clock time=0\n",
      "clock time=0\n",
      "clock time=0\n",
      "clock time=0\n",
      "clock time=0\n",
      "clock time=0\n",
      "clock time=0\n",
      "clock time=0\n",
      "clock time=0\n",
      "clock time=0\n",
      "clock time=0\n",
      "note_on channel=13 note=62 velocity=20 time=0\n",
      "clock time=0\n",
      "clock time=0\n",
      "clock time=0\n",
      "clock time=0\n",
      "clock time=0\n",
      "clock time=0\n",
      "note_on channel=13 note=62 velocity=0 time=0\n",
      "clock time=0\n",
      "clock time=0\n",
      "clock time=0\n",
      "clock time=0\n",
      "note_on channel=13 note=62 velocity=29 time=0\n",
      "clock time=0\n",
      "clock time=0\n",
      "clock time=0\n",
      "clock time=0\n",
      "clock time=0\n",
      "note_on channel=13 note=62 velocity=0 time=0\n",
      "clock time=0\n",
      "clock time=0\n",
      "clock time=0\n",
      "clock time=0\n",
      "note_on channel=13 note=62 velocity=50 time=0\n",
      "clock time=0\n",
      "clock time=0\n",
      "clock time=0\n",
      "clock time=0\n",
      "clock time=0\n",
      "clock time=0\n",
      "note_on channel=13 note=62 velocity=0 time=0\n",
      "clock time=0\n",
      "clock time=0\n",
      "clock time=0\n",
      "clock time=0\n",
      "note_on channel=13 note=62 velocity=60 time=0\n",
      "clock time=0\n",
      "clock time=0\n",
      "clock time=0\n",
      "clock time=0\n",
      "clock time=0\n",
      "clock time=0\n",
      "note_on channel=13 note=62 velocity=0 time=0\n",
      "clock time=0\n",
      "clock time=0\n",
      "clock time=0\n",
      "clock time=0\n",
      "note_on channel=13 note=62 velocity=52 time=0\n",
      "clock time=0\n",
      "clock time=0\n",
      "clock time=0\n",
      "clock time=0\n",
      "clock time=0\n",
      "note_on channel=13 note=62 velocity=0 time=0\n",
      "clock time=0\n",
      "clock time=0\n",
      "clock time=0\n",
      "clock time=0\n",
      "clock time=0\n",
      "note_on channel=13 note=62 velocity=78 time=0\n",
      "clock time=0\n",
      "clock time=0\n",
      "clock time=0\n",
      "clock time=0\n",
      "clock time=0\n",
      "clock time=0\n",
      "note_on channel=13 note=62 velocity=0 time=0\n",
      "clock time=0\n",
      "clock time=0\n",
      "clock time=0\n",
      "clock time=0\n",
      "clock time=0\n",
      "note_on channel=13 note=62 velocity=43 time=0\n",
      "clock time=0\n",
      "clock time=0\n",
      "clock time=0\n",
      "clock time=0\n",
      "clock time=0\n",
      "note_on channel=13 note=62 velocity=0 time=0\n",
      "clock time=0\n",
      "clock time=0\n",
      "clock time=0\n",
      "clock time=0\n",
      "clock time=0\n",
      "clock time=0\n",
      "note_on channel=13 note=62 velocity=69 time=0\n",
      "clock time=0\n",
      "clock time=0\n",
      "Fin de la escucha.\n"
     ]
    }
   ],
   "source": [
    "import time\n",
    "\n",
    "port_name = \"Launchkey Mini MK4 37 MIDI 0\"  # ← reemplaza con el nombre exacto\n",
    "with mido.open_input(port_name) as inport:\n",
    "    print(f\"Escuchando «{port_name}» 5 s…\")\n",
    "    t0 = time.time()\n",
    "    while time.time() - t0 < 5:\n",
    "        msg = inport.receive(block=False)\n",
    "        if msg:\n",
    "            print(msg)\n",
    "        time.sleep(0.01)\n",
    "    print(\"Fin de la escucha.\")\n"
   ]
  },
  {
   "cell_type": "markdown",
   "metadata": {},
   "source": [
    "I found this [link](https://users.cs.cf.ac.uk/Dave.Marshall/Multimedia/node158.html) to be useful in decoding the `status` codes."
   ]
  },
  {
   "cell_type": "markdown",
   "metadata": {},
   "source": [
    "## Super Simple Synth"
   ]
  },
  {
   "cell_type": "markdown",
   "metadata": {},
   "source": [
    "Now that we have MIDI kinda out of the way we can create a synth using the most basic oscillator. In the [first post on oscillators](http://localhost:8888/notebooks/synth/Post%20Oscillators.ipynb) we had coded a simple sine wave generator. We can add an additional argument for `amp` to scale the amplitude of the note."
   ]
  },
  {
   "cell_type": "code",
   "execution_count": 17,
   "metadata": {
    "ExecuteTime": {
     "end_time": "2021-03-02T08:34:17.879555Z",
     "start_time": "2021-03-02T08:34:17.875946Z"
    }
   },
   "outputs": [],
   "source": [
    "def get_sin_oscillator(freq=55, amp=1, sample_rate=44100):\n",
    "    increment = (2 * math.pi * freq)/ sample_rate\n",
    "    return (math.sin(v) * amp for v in itertools.count(start=0, step=increment))"
   ]
  },
  {
   "cell_type": "markdown",
   "metadata": {},
   "source": [
    "For the super simple synth we'll use the oscillators from the above function."
   ]
  },
  {
   "cell_type": "markdown",
   "metadata": {},
   "source": [
    "Before we get to the playing part we need to route the synthesizer output to the speaker, for this we can use [`pyaudio`](http://people.csail.mit.edu/hubert/pyaudio/). We need to first set up a [PyAudio stream](http://people.csail.mit.edu/hubert/pyaudio/docs/#class-stream) to which we can write the synth values."
   ]
  },
  {
   "cell_type": "code",
   "execution_count": null,
   "metadata": {
    "ExecuteTime": {
     "end_time": "2021-03-02T08:39:11.434949Z",
     "start_time": "2021-03-02T08:39:11.420577Z"
    }
   },
   "outputs": [],
   "source": [
    "stream = pyaudio.PyAudio().open(\n",
    "    rate=44100,\n",
    "    channels=1,\n",
    "    format=pyaudio.paInt16,\n",
    "    output=True,\n",
    "    frames_per_buffer=256\n",
    ")"
   ]
  },
  {
   "cell_type": "markdown",
   "metadata": {},
   "source": [
    "The parameters of the stream object:\n",
    "- `rate` is the sample rate of the audio.\n",
    "- `channels` is the number of audio channels (left and right).\n",
    "- `format` is the format of each sample which here is set to signed 16 bit integers cause there is no option for floats.\n",
    "- `output` is set to `True` cause we are \"writing\" to a speaker rather than \"reading\" from some input.\n",
    "- `frames_per_buffer` tells the stream object how many samples from the synthesizer we'll be feeding it at a time."
   ]
  },
  {
   "cell_type": "markdown",
   "metadata": {
    "ExecuteTime": {
     "end_time": "2021-02-24T07:49:00.067147Z",
     "start_time": "2021-02-24T07:49:00.062492Z"
    }
   },
   "source": [
    "Now that we have our stream object we just need to call the `stream.write` method to get it to play our synth sounds. We just need another function to get the required number of samples from an oscillator in the correct format, which here is int 16 which means that the numbers range from -2^15 to 2^15 - 1, i.e. (-32768, 32767)."
   ]
  },
  {
   "cell_type": "code",
   "execution_count": 19,
   "metadata": {
    "ExecuteTime": {
     "end_time": "2021-03-01T14:40:48.986521Z",
     "start_time": "2021-03-01T14:40:48.982000Z"
    }
   },
   "outputs": [],
   "source": [
    "def get_samples(osc, num_samples=256):\n",
    "    return [int(next(osc) * 32767) for i in range(256)]"
   ]
  },
  {
   "cell_type": "code",
   "execution_count": null,
   "metadata": {
    "ExecuteTime": {
     "end_time": "2021-02-24T17:41:20.773484Z",
     "start_time": "2021-02-24T17:41:20.046066Z"
    }
   },
   "outputs": [],
   "source": [
    "fig = getfig()\n",
    "osc = get_sin_oscillator(freq=55)\n",
    "n = 5\n",
    "for i in range(1,n+1):\n",
    "    plot(get_samples(osc), 1,n,i, color=colors[3], ylabel=\"value\" if i == 1 else \"\", xlabel=\"samples\")\n",
    "    plt.title(f\"Buffer State {i}\")\n",
    "    \n",
    "savefig(fig, \"5buffers\")"
   ]
  },
  {
   "cell_type": "markdown",
   "metadata": {},
   "source": [
    "This is how we'll \"play\" the synth:\n",
    "- Note is pressed\n",
    "    - Oscillator of the correct frequency is created and added to a `dict`.\n",
    "    - Values from all the in the `dict` are added and returned in a frame of a given size.\n",
    "    - Values in the frame are written to `stream`.\n",
    "- Note is released\n",
    "    - Oscillator is removed from the `dict`."
   ]
  },
  {
   "cell_type": "markdown",
   "metadata": {},
   "source": [
    "We'll be using a `dict` to keep track of all the notes that are pressed down. The key will be the midi note value and item will be the oscillator. We can get the frequency of the note using the `midi.midi_to_frequency` function."
   ]
  },
  {
   "cell_type": "markdown",
   "metadata": {},
   "source": [
    "Since we are using a `dict` of oscillators to play the notes from, we'll have to rewrite the `get_samples` function."
   ]
  },
  {
   "cell_type": "code",
   "execution_count": 21,
   "metadata": {
    "ExecuteTime": {
     "end_time": "2021-03-02T08:34:36.635652Z",
     "start_time": "2021-03-02T08:34:36.632291Z"
    }
   },
   "outputs": [],
   "source": [
    "def get_samples(notes_dict, num_samples=256):\n",
    "    return [sum(int(next(osc) * 32767)\n",
    "                for osc in notes_dict.values())\n",
    "            for _ in range(num_samples)]"
   ]
  },
  {
   "cell_type": "markdown",
   "metadata": {},
   "source": [
    "Basically what's going on in the above list comprehension is: get the sum of the values of all the oscillators in 16 bit integer format `num_samples` times, by calling `next` on the oscillators to get their each of their values."
   ]
  },
  {
   "cell_type": "markdown",
   "metadata": {},
   "source": [
    "Since we have to write to stream in `bytes` format we have to use `np.int16(samples).tobytes()`. Now if you run the above code you have a polyphonic sine wave synthesizer. "
   ]
  },
  {
   "cell_type": "code",
   "execution_count": 23,
   "metadata": {
    "ExecuteTime": {
     "end_time": "2021-03-02T08:38:55.482565Z",
     "start_time": "2021-03-02T08:38:37.143855Z"
    }
   },
   "outputs": [
    {
     "name": "stdout",
     "output_type": "stream",
     "text": [
      "Toca unas notas — Ctrl+C para parar\n",
      "Stopping...\n"
     ]
    }
   ],
   "source": [
    "# Diccionario de osciladores activos\n",
    "notes_dict = {}\n",
    "try:\n",
    "    print(\"Toca unas notas — Ctrl+C para parar\")\n",
    "    while True:\n",
    "        # 1) Generar audio si hay voces activas\n",
    "        if notes_dict:\n",
    "            samples = get_samples(notes_dict)\n",
    "            stream.write(np.int16(samples).tobytes())\n",
    "\n",
    "        # 2) Leer todos los mensajes pendientes con Mido\n",
    "        for msg in inport.iter_pending():\n",
    "            # msg es un objeto mido.Message\n",
    "            if msg.type == 'note_on' and msg.velocity > 0:\n",
    "                # arrancar nota\n",
    "                freq = 440.0 * 2**((msg.note - 69)/12.0)\n",
    "                osc = get_sin_oscillator(freq=freq, amp=msg.velocity/127.0)\n",
    "                notes_dict[msg.note] = osc\n",
    "            elif msg.type == 'note_off' or (msg.type == 'note_on' and msg.velocity == 0):\n",
    "                # terminar nota\n",
    "                notes_dict.pop(msg.note, None)\n",
    "\n",
    "        time.sleep(0.005)\n",
    "\n",
    "except KeyboardInterrupt:\n",
    "    print(\"Stopping...\")"
   ]
  },
  {
   "cell_type": "markdown",
   "metadata": {},
   "source": [
    "- In this file [here](link_to_the_file.com), I have put together all of the above code, so you can use `$ python super_simple_synth.py` and if all your libraries and MIDI controller are in place the synth should be running you can quit by pressing `control + c`.\n",
    "- I got a bit carried away while making coding the Super Simple Synth, so [here's](link_to_the_other_file.com) the same thing in 19 lines and 676 characters."
   ]
  },
  {
   "cell_type": "code",
   "execution_count": null,
   "metadata": {
    "ExecuteTime": {
     "end_time": "2021-03-02T09:05:44.087999Z",
     "start_time": "2021-03-02T09:05:44.004105Z"
    }
   },
   "outputs": [],
   "source": [
    "Audio(\"tempsnd/something_familiar_deux.wav\")"
   ]
  },
  {
   "cell_type": "markdown",
   "metadata": {},
   "source": [
    "## The Synthesizer"
   ]
  },
  {
   "cell_type": "markdown",
   "metadata": {},
   "source": [
    "This is how it sounds, the a very raw synth, no modulations, pure sine. Notice the clicks at the start and end of a note, this is because there is no ADSR applied to the amplitude."
   ]
  },
  {
   "cell_type": "code",
   "execution_count": null,
   "metadata": {
    "ExecuteTime": {
     "end_time": "2021-03-02T07:15:44.727457Z",
     "start_time": "2021-03-02T07:15:44.709977Z"
    }
   },
   "outputs": [],
   "source": [
    "def get_sin_oscillator(freq, amp, sample_rate):\n",
    "    increment = (2 * math.pi * freq)/ sample_rate\n",
    "    return (math.sin(v) * amp for v in itertools.count(start=0, step=increment))\n",
    "\n",
    "class PolySynth:\n",
    "    def __init__(self, amp_scale=0.3, max_amp=0.8, sample_rate=44100, num_samples=64):\n",
    "        # Initialize MIDI\n",
    "        midi.init()\n",
    "        if midi.get_count() > 0:\n",
    "            self.midi_input = midi.Input(midi.get_default_input_id())\n",
    "        else: \n",
    "            raise Exception(\"no midi devices detected\")\n",
    "        \n",
    "        # Constants\n",
    "        self.num_samples = num_samples\n",
    "        self.sample_rate = sample_rate\n",
    "        self.amp_scale = amp_scale\n",
    "        self.max_amp = max_amp\n",
    "    \n",
    "    def _init_stream(self, nchannels):\n",
    "        # Initialize the Stream object\n",
    "        self.stream = pyaudio.PyAudio().open(\n",
    "            rate=self.sample_rate,\n",
    "            channels=nchannels,\n",
    "            format=pyaudio.paInt16,\n",
    "            output=True,\n",
    "            frames_per_buffer=self.num_samples\n",
    "        )\n",
    "        \n",
    "    def _get_samples(self, notes_dict):\n",
    "        # Return samples in int16 format\n",
    "        samples = []\n",
    "        for _ in range(self.num_samples):\n",
    "            samples.append(\n",
    "                [next(osc[0]) for _, osc in notes_dict.items()]\n",
    "            )\n",
    "        samples = np.array(samples).sum(axis=1) * self.amp_scale\n",
    "        samples = np.int16(samples.clip(-self.max_amp, self.max_amp) * 32767)\n",
    "        return samples.reshape(self.num_samples, -1)\n",
    "\n",
    "    def play(self, osc_function=get_sin_oscillator, close=False):\n",
    "        tempcf = osc_function(1, 1, self.sample_rate)\n",
    "        has_trigger = hasattr(tempcf, \"trigger_release\")\n",
    "        tempsm = self._get_samples({-1: [tempcf, False]})\n",
    "        nchannels = tempsm.shape[1]\n",
    "        self._init_stream(nchannels)\n",
    "\n",
    "        try:\n",
    "            notes_dict = {}\n",
    "            while True:\n",
    "                if notes_dict:\n",
    "                    # Play the notes\n",
    "                    samples = self._get_samples(notes_dict)\n",
    "                    self.stream.write(samples.tobytes())\n",
    "                    \n",
    "                if self.midi_input.poll():\n",
    "                    # Add or remove notes from notes_dict\n",
    "                    for event in self.midi_input.read(num_events=16):\n",
    "                        (status, note, vel, _), _ = event\n",
    "                        if status == 0x80 and note in notes_dict:\n",
    "                            if has_trigger:\n",
    "                                notes_dict[note][0].trigger_release()\n",
    "                                notes_dict[note][1] = True\n",
    "                            else:\n",
    "                                del notes_dict[note]\n",
    "\n",
    "                        elif status == 0x90:\n",
    "                            freq = midi.midi_to_frequency(note)\n",
    "                            notes_dict[note] = [\n",
    "                                osc_function(freq=freq, amp=vel/127, sample_rate=self.sample_rate), \n",
    "                                False\n",
    "                            ]\n",
    "\n",
    "                if has_trigger:\n",
    "                    # Delete notes if ended\n",
    "                    ended_notes = [k for k,o in notes_dict.items() if o[0].ended and o[1]]\n",
    "                    for note in ended_notes:\n",
    "                        del notes_dict[note]\n",
    "\n",
    "        except KeyboardInterrupt as err:\n",
    "            self.stream.close()\n",
    "            if close:\n",
    "                self.midi_input.close()"
   ]
  },
  {
   "cell_type": "markdown",
   "metadata": {
    "heading_collapsed": true
   },
   "source": [
    "#### rec_play"
   ]
  },
  {
   "cell_type": "code",
   "execution_count": null,
   "metadata": {
    "ExecuteTime": {
     "end_time": "2021-03-01T14:55:38.699852Z",
     "start_time": "2021-03-01T14:55:38.691133Z"
    },
    "hidden": true
   },
   "outputs": [],
   "source": [
    "def rec_play(self, osc_function=get_sin_oscillator, close=False, file_name=None):\n",
    "    rec = []\n",
    "    tempcf = osc_function(1, 1, self.sample_rate)\n",
    "    has_trigger = hasattr(tempcf, \"trigger_release\")\n",
    "    tempsm = self._get_samples({-1: [tempcf, False]})\n",
    "    nchannels = tempsm.shape[1]\n",
    "    self._init_stream(nchannels)\n",
    "\n",
    "    try:\n",
    "        notes_dict = {}\n",
    "        while True:\n",
    "            if notes_dict:\n",
    "                # Play the notes\n",
    "                samples = self._get_samples(notes_dict)\n",
    "                self.stream.write(samples.tobytes())\n",
    "                if file_name:\n",
    "                    rec.append(samples)\n",
    "\n",
    "            if self.midi_input.poll():\n",
    "                # Add or remove notes from notes_dict\n",
    "                for event in self.midi_input.read(num_events=16):\n",
    "                    (status, note, vel, _), _ = event\n",
    "                    if status == 0x80 and note in notes_dict:\n",
    "                        if has_trigger:\n",
    "                            notes_dict[note][0].trigger_release()\n",
    "                            notes_dict[note][1] = True\n",
    "                        else:\n",
    "                            del notes_dict[note]\n",
    "\n",
    "                    elif status == 0x90:\n",
    "                        freq = midi.midi_to_frequency(note)\n",
    "                        notes_dict[note] = [\n",
    "                            osc_function(freq=freq, amp=vel/127, sample_rate=self.sample_rate), \n",
    "                            False\n",
    "                        ]\n",
    "\n",
    "            if has_trigger:\n",
    "                # Delete notes if ended\n",
    "                ended_notes = [k for k,o in notes_dict.items() if o[0].ended and o[1]]\n",
    "                for note in ended_notes:\n",
    "                    del notes_dict[note]\n",
    "\n",
    "    except KeyboardInterrupt as err:\n",
    "        if file_name:\n",
    "            wavfile.write(file_name, self.sample_rate, np.concatenate(rec))\n",
    "            self.stream.close()\n",
    "        if close:\n",
    "            self.midi_input.close()"
   ]
  },
  {
   "cell_type": "markdown",
   "metadata": {},
   "source": [
    "#### Run"
   ]
  },
  {
   "cell_type": "markdown",
   "metadata": {},
   "source": [
    "#### Content"
   ]
  },
  {
   "cell_type": "markdown",
   "metadata": {},
   "source": [
    "We'll wrap up all the above code in a class, cause classes generally make things easier to deal with. The `PolySynth` class below is an example of how we could use the components to create a synthesizer."
   ]
  },
  {
   "cell_type": "markdown",
   "metadata": {},
   "source": [
    "The `PolySynth` class will help us play the synth using a MIDI controller, i.e. it will let us play some notes on some input device, the notes will be converted to a sequence of numbers which will then be routed to the speaker for playback."
   ]
  },
  {
   "cell_type": "markdown",
   "metadata": {},
   "source": [
    "### PolySynth Methods"
   ]
  },
  {
   "cell_type": "markdown",
   "metadata": {},
   "source": [
    "**`__init__`** \n",
    "- The object initialization function `__init__` takes two new arguments:\n",
    "    1. `amp_scale` : this scales the value of a sample, this is used to reduce the volume of a single note cause during playback when multiple notes are played their values are added unlike the `WaveAdder` where the values are averaged.\n",
    "    2. `max_amp` : this is used to clip all the values to a range of `[-max_amp, max_amp]` this is so that we don't damage our speakers if the volume gets too loud. *Note : If you set this value to be sufficiently low (example 0.01) it will create a distortion effect.*\n",
    "- Both the above parameters are for speaker safety, other then these two it will also take in `frames_per_buffer` and `sample_rate` these are the same as the ones explained in the earlier section.\n",
    "- When a `Player` instance is created, it initializes the `midi.Input` object and saves the passed arguments."
   ]
  },
  {
   "cell_type": "markdown",
   "metadata": {},
   "source": [
    "**`_init_stream`**\n",
    "- This function is used to initialize the stream object before a synth is played, this is set as a separate function and not initialized in `__init__` cause the number of channels are decided by the type of oscillator being used."
   ]
  },
  {
   "cell_type": "markdown",
   "metadata": {},
   "source": [
    "**`_get_samples`**\n",
    "- This function will basically call `next` on each of the oscillators in the `notes_dict` sufficient number of times to fill the buffer which will be fed to the output (speaker).\n",
    "- The output of each of the oscillators is summed up, then scaled using `amp_scale` then it's clipped to `max_amp` and finally it is converted to 16 bit integers before returning.\n",
    "- Since the oscillators can return 2 samples if it's stereo we use `numpy` for the quicker operations.\n",
    "- The `notes_dict` values are a list of two items: `[0]` is the oscillator and `[1]` is a boolean flag that indicates if a note can be deleted."
   ]
  },
  {
   "cell_type": "markdown",
   "metadata": {},
   "source": [
    "**`play`**\n",
    "- This is the main function of the class and is what will help us play the synthesizer and record what we play to a `.wav` file.\n",
    "- First I'll go over the arguments:\n",
    "    - `osc_function` : This is any function that will return an oscillator depending on the midi input, more on this in a while.\n",
    "    - `close` : If this is set to `True` then it will close the midi input object.\n",
    "- The general structure of the `play` function is the same as the loop describe earlier, the major differences are\n",
    "    - It allows for *generators* that have release triggers (using `trigger_release`) on them such as `ModifiedOscillators` using an `ADSREnvelope`.\n",
    "    - If a release trigger is present it doesn't delete a note immediately, only when the note has `ended` and the delete flag in `notes_dict` has been set."
   ]
  },
  {
   "cell_type": "markdown",
   "metadata": {
    "ExecuteTime": {
     "end_time": "2021-02-25T07:23:53.600499Z",
     "start_time": "2021-02-25T07:23:53.598205Z"
    }
   },
   "source": [
    "### `osc_function`"
   ]
  },
  {
   "cell_type": "markdown",
   "metadata": {},
   "source": [
    "- The `osc_function`, this is a function that has the following signature\n",
    "    ```python\n",
    "    osc_function(freq:float, amp:float, sample_rate:int) -> Iterable\n",
    "    ```\n",
    "    when a midi note is played the frequency and amplitude of the note is passed to the `osc_function` which will then return an oscillator (`osc`) that on calling `next` on it (`next(osc)`) will return the value to be played.\n",
    "- An example of the `osc_function` is the `get_sin_oscillator` function described in one of the earlier sections, this is the simplest `osc_function`.\n",
    "- Using the components defined in part one and two of this series we can make more complex `osc_function`s such as\n",
    "    ```python\n",
    "    def osc_function(freq, amp, sample_rate):\n",
    "        return iter(\n",
    "            Chain(\n",
    "                TriangleOscillator(freq=freq, amp=amp, sample_rate=sample_rate),\n",
    "                ModulatedPanner(\n",
    "                    SineOscillator(freq/100, phase=90, sample_rate=sample_rate)\n",
    "                ),\n",
    "                ModulatedVolume(ADSREnvelope(0.01, release_duration=0.001, sample_rate=sample_rate))\n",
    "            )\n",
    "        )\n",
    "    \n",
    "    ```\n",
    "    because of the design of the previous components we have to call `__iter__` on it to initialize the underlying components such as the `Oscillator`; the above designed `osc_function` sets the `ModulatedPanner`'s oscillator as a function of note frequency, this is what it sounds like. `# embed fmod_pan.wav`"
   ]
  },
  {
   "cell_type": "code",
   "execution_count": null,
   "metadata": {
    "ExecuteTime": {
     "end_time": "2021-02-25T09:06:42.058982Z",
     "start_time": "2021-02-25T09:06:27.902285Z"
    }
   },
   "outputs": [],
   "source": [
    "def osc_function(freq, amp, sample_rate):\n",
    "    return iter(\n",
    "        Chain(\n",
    "            TriangleOscillator(freq=freq, \n",
    "                    amp=amp, sample_rate=sample_rate),\n",
    "            ModulatedPanner(\n",
    "                SineOscillator(freq/100, \n",
    "                    phase=90, sample_rate=sample_rate)\n",
    "            ),\n",
    "            ModulatedVolume(\n",
    "                ADSREnvelope(0.01, \n",
    "                    release_duration=0.001, sample_rate=sample_rate)\n",
    "            )\n",
    "        )\n",
    "    )\n",
    "\n",
    "rec_play(player, osc_function, file_name=\"tempsnd/fmod_pan.wav\")\n",
    "Audio(\"tempsnd/fmod_pan.wav\")"
   ]
  },
  {
   "cell_type": "markdown",
   "metadata": {},
   "source": [
    "- One caveat about the above design is that it doesn't limit the number of notes being played so if the oscillators can't generate notes fast enough your output will be kinda wonky, timing maybe off if you are recording from the buffer or it may distort."
   ]
  },
  {
   "cell_type": "code",
   "execution_count": null,
   "metadata": {
    "ExecuteTime": {
     "end_time": "2021-03-01T15:06:52.040999Z",
     "start_time": "2021-03-01T15:01:22.632603Z"
    }
   },
   "outputs": [],
   "source": [
    "def osc_function(freq, amp, sample_rate):\n",
    "    return iter(\n",
    "        Chain(\n",
    "            WaveAdder(\n",
    "                Chain(\n",
    "                    SineOscillator(freq=freq+4, amp=amp, sample_rate=sample_rate),\n",
    "                    Panner(0.3)\n",
    "                ),\n",
    "                Chain(\n",
    "                    TriangleOscillator(freq=freq, amp=amp, sample_rate=sample_rate),\n",
    "                    Panner(0.7)\n",
    "                ),\n",
    "                Chain(\n",
    "                    SawtoothOscillator(freq=freq/2, amp=amp*0.1, sample_rate=sample_rate),\n",
    "                    Panner()\n",
    "                )\n",
    "            ),\n",
    "            ModulatedVolume(ADSREnvelope(0.01,0.2,0.9,0.001))\n",
    "        )\n",
    "    )\n",
    "\n",
    "player.play(osc_function)"
   ]
  },
  {
   "cell_type": "code",
   "execution_count": null,
   "metadata": {
    "ExecuteTime": {
     "end_time": "2021-03-01T15:07:02.795547Z",
     "start_time": "2021-03-01T15:07:02.661048Z"
    }
   },
   "outputs": [],
   "source": [
    "Audio(\"tempsnd/Osc Struggle.wav\")"
   ]
  },
  {
   "cell_type": "code",
   "execution_count": null,
   "metadata": {
    "ExecuteTime": {
     "end_time": "2021-03-02T07:15:45.251068Z",
     "start_time": "2021-03-02T07:15:45.238367Z"
    }
   },
   "outputs": [],
   "source": [
    "def get_glider(old_freq,new_freq, glide, sample_rate):\n",
    "    np.linspace(old_freq, new_freq, int(sample_rate * glide))\n",
    "    if old_freq == new_freq:\n",
    "        glider = itertools.cycle([new_freq])\n",
    "    else: \n",
    "        glider = itertools.count(old_freq, (new_freq-old_freq)/(glide*sample_rate))\n",
    "    for f in glider:\n",
    "        if old_freq > new_freq:\n",
    "            yield max(f, new_freq)\n",
    "        else:\n",
    "            yield min(f, new_freq)\n",
    "        \n",
    "class MonoSynth(PolySynth):\n",
    "    def _get_samples(self, osc, glider):\n",
    "        samples = []\n",
    "        for _ in range(self.num_samples):\n",
    "            freq = next(glider)\n",
    "            if freq != osc.freq:osc.freq = freq\n",
    "            samples.append(next(osc))\n",
    "        samples = (np.array(samples) * self.amp_scale).clip(-self.max_amp, self.max_amp)\n",
    "        return np.int16(samples * 32767)\n",
    "        \n",
    "    def play(self, osc, close=False, glide=0.1):\n",
    "        self._init_stream(1)\n",
    "\n",
    "        try:\n",
    "            play = False\n",
    "            note = None\n",
    "            glider = None\n",
    "            \n",
    "            while True:\n",
    "                if play:\n",
    "                    # Play the notes\n",
    "                    samples = self._get_samples(osc, glider)\n",
    "                    \n",
    "                    # Stream Samples\n",
    "                    self.stream.write(samples.tobytes())\n",
    "                    \n",
    "                if self.midi_input.poll():\n",
    "                    # Add or remove notes from notes_dict\n",
    "                    for event in self.midi_input.read(num_events=16):\n",
    "                        (status, note_, vel, _), _ = event\n",
    "                        freq = midi.midi_to_frequency(note_)\n",
    "                        \n",
    "                        if status == 0x80 and note == note_:\n",
    "                            play = False\n",
    "                            \n",
    "                        elif status == 0x90:\n",
    "                            if not play:\n",
    "                                play = True\n",
    "                                osc.freq = freq\n",
    "                            glider = get_glider(osc.freq, freq, glide, self.sample_rate)\n",
    "                            note = note_\n",
    "\n",
    "        except KeyboardInterrupt as err:\n",
    "            self.stream.close()\n",
    "            if close:\n",
    "                self.midi_input.close()"
   ]
  },
  {
   "cell_type": "markdown",
   "metadata": {},
   "source": [
    "- This means that you can't use very fancy oscillator setups, for that to work properly you'd have to use more efficient code, such as where the samples are generated in required batch sizes rather than one by one and all operations are vectorized, or a faster (perhaps compiled) language; this is why people say Python is slow, it can't perform compile time optimization cause the [reference implementation](https://github.com/python/cpython) is interpreted, but I can't think of any other language that will let me code a polysynth in fewer than 20 lines which is why it's awesome."
   ]
  },
  {
   "cell_type": "markdown",
   "metadata": {},
   "source": [
    "- The player class is just one way to go about creating a synth you can have other designs using the earlier coded components, example: only one note plays at a time using just one oscillator by setting it's `._f` parameter."
   ]
  },
  {
   "cell_type": "code",
   "execution_count": null,
   "metadata": {},
   "outputs": [],
   "source": [
    "player = MonoSynth()"
   ]
  },
  {
   "cell_type": "code",
   "execution_count": null,
   "metadata": {},
   "outputs": [],
   "source": [
    "player.play(iter(SineOscillator()), glide=0.01)"
   ]
  },
  {
   "cell_type": "code",
   "execution_count": null,
   "metadata": {
    "ExecuteTime": {
     "end_time": "2021-03-02T07:40:29.399359Z",
     "start_time": "2021-03-02T07:28:25.345988Z"
    }
   },
   "outputs": [],
   "source": [
    "# player = MonoSynth()\n",
    "player.play(iter(SineOscillator()), glide=0.2)"
   ]
  },
  {
   "cell_type": "code",
   "execution_count": null,
   "metadata": {
    "ExecuteTime": {
     "end_time": "2021-03-01T16:08:43.472231Z",
     "start_time": "2021-03-01T15:35:59.145039Z"
    }
   },
   "outputs": [],
   "source": [
    "def osc_function(freq, amp, sample_rate):\n",
    "    return iter(\n",
    "        Chain(\n",
    "            ModulatedOscillator(\n",
    "                TriangleOscillator(freq=freq, amp=amp, sample_rate=sample_rate),\n",
    "                ADSREnvelope(0.04, decay_duration=0.01, release_duration=0.01),\n",
    "                amp_mod=lambda x,y:x*y\n",
    "            ),\n",
    "            Panner(max(min(freq / 261 - 0.5,0.85),0.15))\n",
    "        )\n",
    "    )\n",
    "player.play(osc_function)"
   ]
  },
  {
   "cell_type": "markdown",
   "metadata": {},
   "source": [
    "- Here's a `MonoSynth` class that does exactly that by overriding the `PolySynth`'s `play` and `_get_samples` functions.\n",
    "- Instead of playing the next frequency immediately it glides to the new notes frequency, the duration is decided by the `glide` argument.\n",
    "- The `get_glider` function basically uses `np.linspace` to interpolate between the old and the new frequencies frequencies.\n",
    "- This is what it sounds like."
   ]
  },
  {
   "cell_type": "code",
   "execution_count": null,
   "metadata": {
    "ExecuteTime": {
     "end_time": "2021-03-01T16:08:52.865756Z",
     "start_time": "2021-03-01T16:08:52.751551Z"
    }
   },
   "outputs": [],
   "source": [
    "Audio(\"tempsnd/For Elise.wav\")"
   ]
  },
  {
   "cell_type": "markdown",
   "metadata": {},
   "source": [
    "This was possible by making setting the `Panner` parameter `r` as function of `freq`."
   ]
  },
  {
   "cell_type": "markdown",
   "metadata": {},
   "source": [
    "And that is basically how one would go about making a synth in python, a few things could be done better to increase the number of concurrent oscillators but since we aren't making a VST that we can plug into our DAW it's cool, if you do want to do that you'd have to use C++ or some other compiled language.\n",
    "Anyway here's Für Elise, in stereoscopic polyphonic glory:"
   ]
  },
  {
   "cell_type": "code",
   "execution_count": null,
   "metadata": {
    "ExecuteTime": {
     "end_time": "2021-03-02T07:41:38.289491Z",
     "start_time": "2021-03-02T07:41:38.238009Z"
    }
   },
   "outputs": [],
   "source": [
    "Audio(\"tempsnd/Long Glide.wav\")"
   ]
  },
  {
   "cell_type": "markdown",
   "metadata": {},
   "source": [
    "And if you increse the `glide` duration then it sounds very much like a theremin."
   ]
  },
  {
   "cell_type": "code",
   "execution_count": null,
   "metadata": {
    "ExecuteTime": {
     "end_time": "2021-03-02T09:06:43.520426Z",
     "start_time": "2021-03-02T09:06:43.460064Z"
    }
   },
   "outputs": [],
   "source": [
    "Audio(\"tempsnd/something_familiar_trois.wav\")"
   ]
  }
 ],
 "metadata": {
  "kernelspec": {
   "display_name": "Python 3",
   "language": "python",
   "name": "python3"
  },
  "language_info": {
   "codemirror_mode": {
    "name": "ipython",
    "version": 3
   },
   "file_extension": ".py",
   "mimetype": "text/x-python",
   "name": "python",
   "nbconvert_exporter": "python",
   "pygments_lexer": "ipython3",
   "version": "3.8.10"
  }
 },
 "nbformat": 4,
 "nbformat_minor": 4
}
